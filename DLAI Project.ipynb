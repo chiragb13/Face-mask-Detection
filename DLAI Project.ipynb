{
 "cells": [
  {
   "cell_type": "code",
   "execution_count": 1,
   "metadata": {},
   "outputs": [],
   "source": [
    "import tensorflow as tf\n",
    "from keras.preprocessing import image\n",
    "from keras.preprocessing.image import ImageDataGenerator"
   ]
  },
  {
   "cell_type": "code",
   "execution_count": 2,
   "metadata": {},
   "outputs": [],
   "source": [
    "import pandas as pd\n",
    "import numpy as np\n",
    "import matplotlib.pyplot as plt\n",
    "from keras.models import Sequential\n",
    "from keras.layers import Convolution2D\n",
    "from keras.layers import MaxPooling2D\n",
    "from keras.layers import Dense\n",
    "from keras.layers import Flatten"
   ]
  },
  {
   "cell_type": "code",
   "execution_count": 3,
   "metadata": {},
   "outputs": [],
   "source": [
    "#initializing the cnn\n",
    "classifier=Sequential()"
   ]
  },
  {
   "cell_type": "code",
   "execution_count": 4,
   "metadata": {},
   "outputs": [],
   "source": [
    "#part2-fitting the cnn to the images\n",
    "from keras.preprocessing.image import ImageDataGenerator\n",
    "train_datagen = ImageDataGenerator(rescale = 1./255,\n",
    "                                   shear_range = 0.2,\n",
    "                                   zoom_range = 0.2,\n",
    "                                   horizontal_flip = True)"
   ]
  },
  {
   "cell_type": "code",
   "execution_count": 5,
   "metadata": {},
   "outputs": [
    {
     "ename": "FileNotFoundError",
     "evalue": "[WinError 3] The system cannot find the path specified: 'C:/Users/MITTAL/OneDrive/Desktop/DLAI_Project/Face Mask Dataset/train'",
     "output_type": "error",
     "traceback": [
      "\u001b[1;31m---------------------------------------------------------------------------\u001b[0m",
      "\u001b[1;31mFileNotFoundError\u001b[0m                         Traceback (most recent call last)",
      "\u001b[1;32mC:\\Users\\CHIRAG~1\\AppData\\Local\\Temp/ipykernel_14156/458213726.py\u001b[0m in \u001b[0;36m<module>\u001b[1;34m\u001b[0m\n\u001b[0;32m      2\u001b[0m \u001b[0mtest_datagen\u001b[0m \u001b[1;33m=\u001b[0m \u001b[0mImageDataGenerator\u001b[0m\u001b[1;33m(\u001b[0m\u001b[0mrescale\u001b[0m \u001b[1;33m=\u001b[0m \u001b[1;36m1.\u001b[0m\u001b[1;33m/\u001b[0m\u001b[1;36m255\u001b[0m\u001b[1;33m)\u001b[0m\u001b[1;33m\u001b[0m\u001b[1;33m\u001b[0m\u001b[0m\n\u001b[0;32m      3\u001b[0m \u001b[1;31m# Creating training set\u001b[0m\u001b[1;33m\u001b[0m\u001b[1;33m\u001b[0m\u001b[0m\n\u001b[1;32m----> 4\u001b[1;33m train = train_datagen.flow_from_directory('C:/Users/MITTAL/OneDrive/Desktop/DLAI_Project/Face Mask Dataset/train',\n\u001b[0m\u001b[0;32m      5\u001b[0m                                                  \u001b[0mtarget_size\u001b[0m \u001b[1;33m=\u001b[0m \u001b[1;33m(\u001b[0m\u001b[1;36m64\u001b[0m\u001b[1;33m,\u001b[0m \u001b[1;36m64\u001b[0m\u001b[1;33m)\u001b[0m\u001b[1;33m,\u001b[0m\u001b[1;33m\u001b[0m\u001b[1;33m\u001b[0m\u001b[0m\n\u001b[0;32m      6\u001b[0m                                                  \u001b[0mbatch_size\u001b[0m \u001b[1;33m=\u001b[0m \u001b[1;36m32\u001b[0m\u001b[1;33m,\u001b[0m\u001b[1;33m\u001b[0m\u001b[1;33m\u001b[0m\u001b[0m\n",
      "\u001b[1;32mC:\\ProgramData\\Anaconda3\\lib\\site-packages\\keras\\preprocessing\\image.py\u001b[0m in \u001b[0;36mflow_from_directory\u001b[1;34m(self, directory, target_size, color_mode, classes, class_mode, batch_size, shuffle, seed, save_to_dir, save_prefix, save_format, follow_links, subset, interpolation)\u001b[0m\n\u001b[0;32m    974\u001b[0m             \u001b[1;32mand\u001b[0m\u001b[0;31m \u001b[0m\u001b[0;31m`\u001b[0m\u001b[0my\u001b[0m\u001b[0;31m`\u001b[0m \u001b[1;32mis\u001b[0m \u001b[0ma\u001b[0m \u001b[0mnumpy\u001b[0m \u001b[0marray\u001b[0m \u001b[0mof\u001b[0m \u001b[0mcorresponding\u001b[0m \u001b[0mlabels\u001b[0m\u001b[1;33m.\u001b[0m\u001b[1;33m\u001b[0m\u001b[1;33m\u001b[0m\u001b[0m\n\u001b[0;32m    975\u001b[0m     \"\"\"\n\u001b[1;32m--> 976\u001b[1;33m     return DirectoryIterator(\n\u001b[0m\u001b[0;32m    977\u001b[0m         \u001b[0mdirectory\u001b[0m\u001b[1;33m,\u001b[0m\u001b[1;33m\u001b[0m\u001b[1;33m\u001b[0m\u001b[0m\n\u001b[0;32m    978\u001b[0m         \u001b[0mself\u001b[0m\u001b[1;33m,\u001b[0m\u001b[1;33m\u001b[0m\u001b[1;33m\u001b[0m\u001b[0m\n",
      "\u001b[1;32mC:\\ProgramData\\Anaconda3\\lib\\site-packages\\keras\\preprocessing\\image.py\u001b[0m in \u001b[0;36m__init__\u001b[1;34m(self, directory, image_data_generator, target_size, color_mode, classes, class_mode, batch_size, shuffle, seed, data_format, save_to_dir, save_prefix, save_format, follow_links, subset, interpolation, dtype)\u001b[0m\n\u001b[0;32m    392\u001b[0m         \u001b[0mdtype\u001b[0m \u001b[1;33m=\u001b[0m \u001b[0mbackend\u001b[0m\u001b[1;33m.\u001b[0m\u001b[0mfloatx\u001b[0m\u001b[1;33m(\u001b[0m\u001b[1;33m)\u001b[0m\u001b[1;33m\u001b[0m\u001b[1;33m\u001b[0m\u001b[0m\n\u001b[0;32m    393\u001b[0m       \u001b[0mkwargs\u001b[0m\u001b[1;33m[\u001b[0m\u001b[1;34m'dtype'\u001b[0m\u001b[1;33m]\u001b[0m \u001b[1;33m=\u001b[0m \u001b[0mdtype\u001b[0m\u001b[1;33m\u001b[0m\u001b[1;33m\u001b[0m\u001b[0m\n\u001b[1;32m--> 394\u001b[1;33m     super(DirectoryIterator, self).__init__(\n\u001b[0m\u001b[0;32m    395\u001b[0m         \u001b[0mdirectory\u001b[0m\u001b[1;33m,\u001b[0m \u001b[0mimage_data_generator\u001b[0m\u001b[1;33m,\u001b[0m\u001b[1;33m\u001b[0m\u001b[1;33m\u001b[0m\u001b[0m\n\u001b[0;32m    396\u001b[0m         \u001b[0mtarget_size\u001b[0m\u001b[1;33m=\u001b[0m\u001b[0mtarget_size\u001b[0m\u001b[1;33m,\u001b[0m\u001b[1;33m\u001b[0m\u001b[1;33m\u001b[0m\u001b[0m\n",
      "\u001b[1;32mC:\\ProgramData\\Anaconda3\\lib\\site-packages\\keras_preprocessing\\image\\directory_iterator.py\u001b[0m in \u001b[0;36m__init__\u001b[1;34m(self, directory, image_data_generator, target_size, color_mode, classes, class_mode, batch_size, shuffle, seed, data_format, save_to_dir, save_prefix, save_format, follow_links, subset, interpolation, dtype)\u001b[0m\n\u001b[0;32m    113\u001b[0m         \u001b[1;32mif\u001b[0m \u001b[1;32mnot\u001b[0m \u001b[0mclasses\u001b[0m\u001b[1;33m:\u001b[0m\u001b[1;33m\u001b[0m\u001b[1;33m\u001b[0m\u001b[0m\n\u001b[0;32m    114\u001b[0m             \u001b[0mclasses\u001b[0m \u001b[1;33m=\u001b[0m \u001b[1;33m[\u001b[0m\u001b[1;33m]\u001b[0m\u001b[1;33m\u001b[0m\u001b[1;33m\u001b[0m\u001b[0m\n\u001b[1;32m--> 115\u001b[1;33m             \u001b[1;32mfor\u001b[0m \u001b[0msubdir\u001b[0m \u001b[1;32min\u001b[0m \u001b[0msorted\u001b[0m\u001b[1;33m(\u001b[0m\u001b[0mos\u001b[0m\u001b[1;33m.\u001b[0m\u001b[0mlistdir\u001b[0m\u001b[1;33m(\u001b[0m\u001b[0mdirectory\u001b[0m\u001b[1;33m)\u001b[0m\u001b[1;33m)\u001b[0m\u001b[1;33m:\u001b[0m\u001b[1;33m\u001b[0m\u001b[1;33m\u001b[0m\u001b[0m\n\u001b[0m\u001b[0;32m    116\u001b[0m                 \u001b[1;32mif\u001b[0m \u001b[0mos\u001b[0m\u001b[1;33m.\u001b[0m\u001b[0mpath\u001b[0m\u001b[1;33m.\u001b[0m\u001b[0misdir\u001b[0m\u001b[1;33m(\u001b[0m\u001b[0mos\u001b[0m\u001b[1;33m.\u001b[0m\u001b[0mpath\u001b[0m\u001b[1;33m.\u001b[0m\u001b[0mjoin\u001b[0m\u001b[1;33m(\u001b[0m\u001b[0mdirectory\u001b[0m\u001b[1;33m,\u001b[0m \u001b[0msubdir\u001b[0m\u001b[1;33m)\u001b[0m\u001b[1;33m)\u001b[0m\u001b[1;33m:\u001b[0m\u001b[1;33m\u001b[0m\u001b[1;33m\u001b[0m\u001b[0m\n\u001b[0;32m    117\u001b[0m                     \u001b[0mclasses\u001b[0m\u001b[1;33m.\u001b[0m\u001b[0mappend\u001b[0m\u001b[1;33m(\u001b[0m\u001b[0msubdir\u001b[0m\u001b[1;33m)\u001b[0m\u001b[1;33m\u001b[0m\u001b[1;33m\u001b[0m\u001b[0m\n",
      "\u001b[1;31mFileNotFoundError\u001b[0m: [WinError 3] The system cannot find the path specified: 'C:/Users/MITTAL/OneDrive/Desktop/DLAI_Project/Face Mask Dataset/train'"
     ]
    }
   ],
   "source": [
    "# Generating images for the Test set\n",
    "test_datagen = ImageDataGenerator(rescale = 1./255)\n",
    "# Creating training set\n",
    "train = train_datagen.flow_from_directory('D:/College stuff\\Face Mask Dataset/train',\n",
    "                                                 target_size = (64, 64),\n",
    "                                                 batch_size = 32,\n",
    "                                                 class_mode = 'binary')\n",
    "# Creating the Test set\n",
    "test = test_datagen.flow_from_directory('C:/Users/MITTAL/OneDrive/Desktop/DLAI_Project/Face Mask Dataset/test',\n",
    "                                            target_size = (64, 64),\n",
    "                                            batch_size = 32,\n",
    "                                            class_mode = 'binary')"
   ]
  },
  {
   "cell_type": "code",
   "execution_count": 24,
   "metadata": {},
   "outputs": [],
   "source": [
    "# Part 2 - Building the CNN\n",
    "# Initialising the CNN\n",
    "cnn = tf.keras.models.Sequential()\n",
    "\n",
    "# Step 1 - Convolution\n",
    "cnn.add(tf.keras.layers.Conv2D(filters=32, kernel_size=3, activation='relu', input_shape=[64, 64, 3]))\n",
    "\n",
    "# Step 2 - Pooling\n",
    "cnn.add(tf.keras.layers.MaxPool2D(pool_size=2, strides=2))\n",
    "\n",
    "# Adding a second convolutional layer\n",
    "cnn.add(tf.keras.layers.Conv2D(filters=32, kernel_size=3, activation='relu'))\n",
    "cnn.add(tf.keras.layers.MaxPool2D(pool_size=2, strides=2))\n",
    "\n",
    "# Step 3 - Flattening\n",
    "cnn.add(tf.keras.layers.Flatten())\n",
    "\n",
    "# Step 4 - Full Connection\n",
    "cnn.add(tf.keras.layers.Dense(units=128, activation='relu'))\n",
    "\n",
    "# Step 5 - Output Layer\n",
    "cnn.add(tf.keras.layers.Dense(units=1, activation='sigmoid'))"
   ]
  },
  {
   "cell_type": "code",
   "execution_count": 25,
   "metadata": {},
   "outputs": [
    {
     "name": "stdout",
     "output_type": "stream",
     "text": [
      "Epoch 1/25\n",
      "313/313 [==============================] - 107s 341ms/step - loss: 0.1536 - accuracy: 0.9397 - val_loss: 0.0591 - val_accuracy: 0.9748\n",
      "Epoch 2/25\n",
      "313/313 [==============================] - 43s 136ms/step - loss: 0.0477 - accuracy: 0.9829 - val_loss: 0.0334 - val_accuracy: 0.9889\n",
      "Epoch 3/25\n",
      "313/313 [==============================] - 47s 152ms/step - loss: 0.0498 - accuracy: 0.9821 - val_loss: 0.0361 - val_accuracy: 0.9859\n",
      "Epoch 4/25\n",
      "313/313 [==============================] - 47s 151ms/step - loss: 0.0330 - accuracy: 0.9877 - val_loss: 0.0238 - val_accuracy: 0.9909\n",
      "Epoch 5/25\n",
      "313/313 [==============================] - 47s 149ms/step - loss: 0.0311 - accuracy: 0.9891 - val_loss: 0.0564 - val_accuracy: 0.9829\n",
      "Epoch 6/25\n",
      "313/313 [==============================] - 45s 144ms/step - loss: 0.0266 - accuracy: 0.9908 - val_loss: 0.0187 - val_accuracy: 0.9950\n",
      "Epoch 7/25\n",
      "313/313 [==============================] - 50s 160ms/step - loss: 0.0278 - accuracy: 0.9899 - val_loss: 0.0209 - val_accuracy: 0.9919\n",
      "Epoch 8/25\n",
      "313/313 [==============================] - 113s 359ms/step - loss: 0.0222 - accuracy: 0.9914 - val_loss: 0.0308 - val_accuracy: 0.9889\n",
      "Epoch 9/25\n",
      "313/313 [==============================] - 119s 381ms/step - loss: 0.0252 - accuracy: 0.9912 - val_loss: 0.0211 - val_accuracy: 0.9899\n",
      "Epoch 10/25\n",
      "313/313 [==============================] - 141s 450ms/step - loss: 0.0171 - accuracy: 0.9945 - val_loss: 0.0140 - val_accuracy: 0.9940\n",
      "Epoch 11/25\n",
      "313/313 [==============================] - 129s 412ms/step - loss: 0.0160 - accuracy: 0.9945 - val_loss: 0.0131 - val_accuracy: 0.9940\n",
      "Epoch 12/25\n",
      "313/313 [==============================] - 135s 432ms/step - loss: 0.0162 - accuracy: 0.9948 - val_loss: 0.0192 - val_accuracy: 0.9919\n",
      "Epoch 13/25\n",
      "313/313 [==============================] - 128s 408ms/step - loss: 0.0173 - accuracy: 0.9935 - val_loss: 0.0222 - val_accuracy: 0.9899\n",
      "Epoch 14/25\n",
      "313/313 [==============================] - 121s 386ms/step - loss: 0.0153 - accuracy: 0.9944 - val_loss: 0.0197 - val_accuracy: 0.9940\n",
      "Epoch 15/25\n",
      "313/313 [==============================] - 120s 382ms/step - loss: 0.0202 - accuracy: 0.9918 - val_loss: 0.0268 - val_accuracy: 0.9909\n",
      "Epoch 16/25\n",
      "313/313 [==============================] - 63s 200ms/step - loss: 0.0170 - accuracy: 0.9939 - val_loss: 0.0110 - val_accuracy: 0.9970\n",
      "Epoch 17/25\n",
      "313/313 [==============================] - 75s 240ms/step - loss: 0.0127 - accuracy: 0.9954 - val_loss: 0.0188 - val_accuracy: 0.9919\n",
      "Epoch 18/25\n",
      "313/313 [==============================] - 115s 365ms/step - loss: 0.0121 - accuracy: 0.9965 - val_loss: 0.0084 - val_accuracy: 0.9970\n",
      "Epoch 19/25\n",
      "313/313 [==============================] - 117s 372ms/step - loss: 0.0083 - accuracy: 0.9974 - val_loss: 0.0113 - val_accuracy: 0.9960\n",
      "Epoch 20/25\n",
      "313/313 [==============================] - 123s 392ms/step - loss: 0.0111 - accuracy: 0.9967 - val_loss: 0.0189 - val_accuracy: 0.9940\n",
      "Epoch 21/25\n",
      "313/313 [==============================] - 123s 392ms/step - loss: 0.0142 - accuracy: 0.9946 - val_loss: 0.0128 - val_accuracy: 0.9950\n",
      "Epoch 22/25\n",
      "313/313 [==============================] - 124s 395ms/step - loss: 0.0080 - accuracy: 0.9969 - val_loss: 0.0080 - val_accuracy: 0.9960\n",
      "Epoch 23/25\n",
      "313/313 [==============================] - 124s 395ms/step - loss: 0.0110 - accuracy: 0.9961 - val_loss: 0.0095 - val_accuracy: 0.9970\n",
      "Epoch 24/25\n",
      "313/313 [==============================] - 128s 407ms/step - loss: 0.0096 - accuracy: 0.9968 - val_loss: 0.0258 - val_accuracy: 0.9929\n",
      "Epoch 25/25\n",
      "313/313 [==============================] - 117s 373ms/step - loss: 0.0084 - accuracy: 0.9975 - val_loss: 0.0170 - val_accuracy: 0.9950\n"
     ]
    },
    {
     "data": {
      "text/plain": [
       "<keras.callbacks.History at 0x23b49e006d0>"
      ]
     },
     "execution_count": 25,
     "metadata": {},
     "output_type": "execute_result"
    }
   ],
   "source": [
    "# Part 3 - Training the CNN\n",
    "\n",
    "# Compiling the CNN\n",
    "cnn.compile(optimizer = 'adam', loss = 'binary_crossentropy', metrics = ['accuracy'])\n",
    "\n",
    "# Training the CNN on the Training set and evaluating it on the Test set\n",
    "cnn.fit(x = train, validation_data = test, epochs = 25)"
   ]
  },
  {
   "cell_type": "code",
   "execution_count": 42,
   "metadata": {},
   "outputs": [],
   "source": [
    "def predict_image(imagepath, classifier):\n",
    "    predict = image.load_img(imagepath, target_size = (64, 64))   \n",
    "    predict_modified = image.img_to_array(predict)\n",
    "    predict_modified = predict_modified / 255\n",
    "    predict_modified = np.expand_dims(predict_modified, axis = 0)\n",
    "    result = classifier.predict(predict_modified)\n",
    "    if result[0][0] >= 0.5:\n",
    "        prediction = 'Without Mask'\n",
    "        probability = result[0][0]\n",
    "        print (\"probability = \" + str(probability))\n",
    "        print(\"Prediction = \" + prediction)\n",
    "    else:\n",
    "        prediction = 'With Mask'\n",
    "        probability = 1 - result[0][0]\n",
    "        print (\"probability = \" + str(probability))\n",
    "        print(\"Prediction = \" + prediction)"
   ]
  },
  {
   "cell_type": "code",
   "execution_count": 43,
   "metadata": {},
   "outputs": [
    {
     "name": "stdout",
     "output_type": "stream",
     "text": [
      "probability = 0.9999999253991376\n",
      "Prediction = With Mask\n"
     ]
    }
   ],
   "source": [
    "predict_image('C:/Users/MITTAL/OneDrive/Desktop/DLAI_Project/Face Mask Dataset/Validation/with mask.png',cnn)"
   ]
  },
  {
   "cell_type": "code",
   "execution_count": 44,
   "metadata": {
    "scrolled": true
   },
   "outputs": [
    {
     "name": "stdout",
     "output_type": "stream",
     "text": [
      "probability = 1.0\n",
      "Prediction = Without Mask\n"
     ]
    }
   ],
   "source": [
    "predict_image('C:/Users/MITTAL/OneDrive/Desktop/DLAI_Project/Face Mask Dataset/Validation/without mask.png',cnn)"
   ]
  },
  {
   "cell_type": "code",
   "execution_count": 51,
   "metadata": {
    "scrolled": true
   },
   "outputs": [
    {
     "name": "stdout",
     "output_type": "stream",
     "text": [
      "probability = 0.9999999980762269\n",
      "Prediction = With Mask\n"
     ]
    }
   ],
   "source": [
    "predict_image('C:/Users/MITTAL/OneDrive/Desktop/kanishk/New folder/Screenshot 2021-09-05 001218.png',cnn)"
   ]
  }
 ],
 "metadata": {
  "kernelspec": {
   "display_name": "Python 3 (ipykernel)",
   "language": "python",
   "name": "python3"
  },
  "language_info": {
   "codemirror_mode": {
    "name": "ipython",
    "version": 3
   },
   "file_extension": ".py",
   "mimetype": "text/x-python",
   "name": "python",
   "nbconvert_exporter": "python",
   "pygments_lexer": "ipython3",
   "version": "3.9.7"
  }
 },
 "nbformat": 4,
 "nbformat_minor": 4
}
